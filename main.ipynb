{
 "cells": [
  {
   "cell_type": "code",
   "execution_count": 25,
   "id": "82592184",
   "metadata": {},
   "outputs": [],
   "source": [
    "import torch\n",
    "import numpy as np\n",
    "from typing import Dict, List, Optional\n",
    "import json\n",
    "import os\n",
    "from scipy.stats import zscore\n",
    "from datetime import datetime\n",
    "import uuid\n",
    "\n",
    "from EEGPTPatientAssessment import EEGPTPatientAssessment"
   ]
  },
  {
   "cell_type": "code",
   "execution_count": 26,
   "id": "32056877",
   "metadata": {},
   "outputs": [],
   "source": [
    "def analyze_patient_eeg(voltage_data: np.ndarray, sampling_rate: int = 250, \n",
    "                       channel_names: Optional[List[str]] = None) -> Dict[str, any]:\n",
    "    \"\"\"\n",
    "    **MAIN FUNCTION: Analyze patient EEG and return interpretable assessment**\n",
    "    \n",
    "    Args:\n",
    "        voltage_data: Raw EEG voltages in volts, shape (channels, timepoints)\n",
    "        sampling_rate: Sampling frequency in Hz\n",
    "        channel_names: Optional channel names\n",
    "        \n",
    "    Returns:\n",
    "        Complete interpretable patient assessment\n",
    "    \"\"\"\n",
    "    \n",
    "    # Initialize assessment system\n",
    "    assessor = EEGPTPatientAssessment()\n",
    "    \n",
    "    # Analyze EEG\n",
    "    assessment = assessor.analyze_eeg(voltage_data, sampling_rate, channel_names)\n",
    "    \n",
    "    return assessment"
   ]
  },
  {
   "cell_type": "code",
   "execution_count": 27,
   "id": "ad96f849",
   "metadata": {},
   "outputs": [
    {
     "name": "stdout",
     "output_type": "stream",
     "text": [
      "EEGPT Patient Assessment System\n",
      "==================================================\n",
      "Loading pretrained EEGPT model...\n",
      "Error loading pretrained model: 'module' object is not callable\n"
     ]
    },
    {
     "ename": "TypeError",
     "evalue": "'module' object is not callable",
     "output_type": "error",
     "traceback": [
      "\u001b[1;31m---------------------------------------------------------------------------\u001b[0m",
      "\u001b[1;31mTypeError\u001b[0m                                 Traceback (most recent call last)",
      "Cell \u001b[1;32mIn[27], line 27\u001b[0m\n\u001b[0;32m     24\u001b[0m channel_names \u001b[38;5;241m=\u001b[39m [\u001b[38;5;124m'\u001b[39m\u001b[38;5;124mF3\u001b[39m\u001b[38;5;124m'\u001b[39m, \u001b[38;5;124m'\u001b[39m\u001b[38;5;124mF4\u001b[39m\u001b[38;5;124m'\u001b[39m, \u001b[38;5;124m'\u001b[39m\u001b[38;5;124mC3\u001b[39m\u001b[38;5;124m'\u001b[39m, \u001b[38;5;124m'\u001b[39m\u001b[38;5;124mC4\u001b[39m\u001b[38;5;124m'\u001b[39m, \u001b[38;5;124m'\u001b[39m\u001b[38;5;124mP3\u001b[39m\u001b[38;5;124m'\u001b[39m, \u001b[38;5;124m'\u001b[39m\u001b[38;5;124mP4\u001b[39m\u001b[38;5;124m'\u001b[39m, \u001b[38;5;124m'\u001b[39m\u001b[38;5;124mO1\u001b[39m\u001b[38;5;124m'\u001b[39m, \u001b[38;5;124m'\u001b[39m\u001b[38;5;124mO2\u001b[39m\u001b[38;5;124m'\u001b[39m]\n\u001b[0;32m     26\u001b[0m \u001b[38;5;66;03m# **ANALYZE EEG DATA**\u001b[39;00m\n\u001b[1;32m---> 27\u001b[0m assessment \u001b[38;5;241m=\u001b[39m \u001b[43manalyze_patient_eeg\u001b[49m\u001b[43m(\u001b[49m\u001b[43mvoltage_data\u001b[49m\u001b[43m,\u001b[49m\u001b[43m \u001b[49m\u001b[43msampling_rate\u001b[49m\u001b[43m,\u001b[49m\u001b[43m \u001b[49m\u001b[43mchannel_names\u001b[49m\u001b[43m)\u001b[49m\n\u001b[0;32m     29\u001b[0m \u001b[38;5;66;03m# **DISPLAY RESULTS**\u001b[39;00m\n\u001b[0;32m     30\u001b[0m \u001b[38;5;28mprint\u001b[39m(\u001b[38;5;124m\"\u001b[39m\u001b[38;5;130;01m\\n\u001b[39;00m\u001b[38;5;124mPATIENT ASSESSMENT RESULTS:\u001b[39m\u001b[38;5;124m\"\u001b[39m)\n",
      "Cell \u001b[1;32mIn[26], line 16\u001b[0m, in \u001b[0;36manalyze_patient_eeg\u001b[1;34m(voltage_data, sampling_rate, channel_names)\u001b[0m\n\u001b[0;32m      3\u001b[0m \u001b[38;5;250m\u001b[39m\u001b[38;5;124;03m\"\"\"\u001b[39;00m\n\u001b[0;32m      4\u001b[0m \u001b[38;5;124;03m**MAIN FUNCTION: Analyze patient EEG and return interpretable assessment**\u001b[39;00m\n\u001b[0;32m      5\u001b[0m \u001b[38;5;124;03m\u001b[39;00m\n\u001b[1;32m   (...)\u001b[0m\n\u001b[0;32m     12\u001b[0m \u001b[38;5;124;03m    Complete interpretable patient assessment\u001b[39;00m\n\u001b[0;32m     13\u001b[0m \u001b[38;5;124;03m\"\"\"\u001b[39;00m\n\u001b[0;32m     15\u001b[0m \u001b[38;5;66;03m# Initialize assessment system\u001b[39;00m\n\u001b[1;32m---> 16\u001b[0m assessor \u001b[38;5;241m=\u001b[39m \u001b[43mEEGPTPatientAssessment\u001b[49m\u001b[43m(\u001b[49m\u001b[43m)\u001b[49m\n\u001b[0;32m     18\u001b[0m \u001b[38;5;66;03m# Analyze EEG\u001b[39;00m\n\u001b[0;32m     19\u001b[0m assessment \u001b[38;5;241m=\u001b[39m assessor\u001b[38;5;241m.\u001b[39manalyze_eeg(voltage_data, sampling_rate, channel_names)\n",
      "File \u001b[1;32mc:\\Users\\shaj6\\Documents\\Programming\\repositories\\eeg-ai-agent\\EEGPTPatientAssessment.py:24\u001b[0m, in \u001b[0;36mEEGPTPatientAssessment.__init__\u001b[1;34m(self, model_path)\u001b[0m\n\u001b[0;32m     21\u001b[0m     \u001b[38;5;28;01mraise\u001b[39;00m \u001b[38;5;167;01mFileNotFoundError\u001b[39;00m(\u001b[38;5;124mf\u001b[39m\u001b[38;5;124m\"\u001b[39m\u001b[38;5;124mPretrained model not found at \u001b[39m\u001b[38;5;132;01m{\u001b[39;00mmodel_path\u001b[38;5;132;01m}\u001b[39;00m\u001b[38;5;124m\"\u001b[39m)\n\u001b[0;32m     23\u001b[0m \u001b[38;5;66;03m# Load pretrained EEGPT model\u001b[39;00m\n\u001b[1;32m---> 24\u001b[0m \u001b[38;5;28mself\u001b[39m\u001b[38;5;241m.\u001b[39meegpt_model \u001b[38;5;241m=\u001b[39m \u001b[38;5;28;43mself\u001b[39;49m\u001b[38;5;241;43m.\u001b[39;49m\u001b[43m_load_eegpt_model\u001b[49m\u001b[43m(\u001b[49m\u001b[43m)\u001b[49m\n\u001b[0;32m     25\u001b[0m \u001b[38;5;28mself\u001b[39m\u001b[38;5;241m.\u001b[39mclinical_heads \u001b[38;5;241m=\u001b[39m \u001b[38;5;28mself\u001b[39m\u001b[38;5;241m.\u001b[39m_initialize_clinical_heads()\n\u001b[0;32m     27\u001b[0m \u001b[38;5;28mprint\u001b[39m(\u001b[38;5;124mf\u001b[39m\u001b[38;5;124m\"\u001b[39m\u001b[38;5;124m✓ EEGPT Patient Assessment initialized on \u001b[39m\u001b[38;5;132;01m{\u001b[39;00m\u001b[38;5;28mself\u001b[39m\u001b[38;5;241m.\u001b[39mdevice\u001b[38;5;132;01m}\u001b[39;00m\u001b[38;5;124m\"\u001b[39m)\n",
      "File \u001b[1;32mc:\\Users\\shaj6\\Documents\\Programming\\repositories\\eeg-ai-agent\\EEGPTPatientAssessment.py:38\u001b[0m, in \u001b[0;36mEEGPTPatientAssessment._load_eegpt_model\u001b[1;34m(self)\u001b[0m\n\u001b[0;32m     35\u001b[0m checkpoint \u001b[38;5;241m=\u001b[39m torch\u001b[38;5;241m.\u001b[39mload(\u001b[38;5;28mself\u001b[39m\u001b[38;5;241m.\u001b[39mmodel_path, map_location\u001b[38;5;241m=\u001b[39m\u001b[38;5;28mself\u001b[39m\u001b[38;5;241m.\u001b[39mdevice, weights_only\u001b[38;5;241m=\u001b[39m\u001b[38;5;28;01mFalse\u001b[39;00m)\n\u001b[0;32m     37\u001b[0m \u001b[38;5;66;03m# EEGPT model configuration (from the paper)\u001b[39;00m\n\u001b[1;32m---> 38\u001b[0m model \u001b[38;5;241m=\u001b[39m \u001b[43mEEGPTModel\u001b[49m\u001b[43m(\u001b[49m\n\u001b[0;32m     39\u001b[0m \u001b[43m    \u001b[49m\u001b[43md_model\u001b[49m\u001b[38;5;241;43m=\u001b[39;49m\u001b[38;5;241;43m512\u001b[39;49m\u001b[43m,\u001b[49m\u001b[43m           \u001b[49m\u001b[38;5;66;43;03m# Model dimension\u001b[39;49;00m\n\u001b[0;32m     40\u001b[0m \u001b[43m    \u001b[49m\u001b[43mn_heads\u001b[49m\u001b[38;5;241;43m=\u001b[39;49m\u001b[38;5;241;43m8\u001b[39;49m\u001b[43m,\u001b[49m\u001b[43m             \u001b[49m\u001b[38;5;66;43;03m# Attention heads\u001b[39;49;00m\n\u001b[0;32m     41\u001b[0m \u001b[43m    \u001b[49m\u001b[43mn_layers\u001b[49m\u001b[38;5;241;43m=\u001b[39;49m\u001b[38;5;241;43m12\u001b[39;49m\u001b[43m,\u001b[49m\u001b[43m           \u001b[49m\u001b[38;5;66;43;03m# Transformer layers\u001b[39;49;00m\n\u001b[0;32m     42\u001b[0m \u001b[43m    \u001b[49m\u001b[43mpatch_size\u001b[49m\u001b[38;5;241;43m=\u001b[39;49m\u001b[38;5;241;43m64\u001b[39;49m\u001b[43m,\u001b[49m\u001b[43m         \u001b[49m\u001b[38;5;66;43;03m# EEG patch size (64 samples)\u001b[39;49;00m\n\u001b[0;32m     43\u001b[0m \u001b[43m    \u001b[49m\u001b[43mn_channels\u001b[49m\u001b[38;5;241;43m=\u001b[39;49m\u001b[38;5;241;43m58\u001b[39;49m\u001b[43m,\u001b[49m\u001b[43m         \u001b[49m\u001b[38;5;66;43;03m# Max channels (will adapt to your input)\u001b[39;49;00m\n\u001b[0;32m     44\u001b[0m \u001b[43m    \u001b[49m\u001b[43msequence_length\u001b[49m\u001b[38;5;241;43m=\u001b[39;49m\u001b[38;5;241;43m4000\u001b[39;49m\u001b[43m   \u001b[49m\u001b[38;5;66;43;03m# 4 seconds at 1000 Hz\u001b[39;49;00m\n\u001b[0;32m     45\u001b[0m \u001b[43m\u001b[49m\u001b[43m)\u001b[49m\n\u001b[0;32m     47\u001b[0m \u001b[38;5;66;03m# Load pretrained weights\u001b[39;00m\n\u001b[0;32m     48\u001b[0m \u001b[38;5;28;01mif\u001b[39;00m \u001b[38;5;124m'\u001b[39m\u001b[38;5;124mmodel\u001b[39m\u001b[38;5;124m'\u001b[39m \u001b[38;5;129;01min\u001b[39;00m checkpoint:\n",
      "\u001b[1;31mTypeError\u001b[0m: 'module' object is not callable"
     ]
    }
   ],
   "source": [
    "if __name__ == \"__main__\":\n",
    "    # Example with synthetic EEG data\n",
    "    print(\"EEGPT Patient Assessment System\")\n",
    "    print(\"=\" * 50)\n",
    "    \n",
    "    # Generate sample EEG data (replace with your real data)\n",
    "    np.random.seed(42)\n",
    "    n_channels = 8\n",
    "    n_timepoints = 1000  # 4 seconds at 250 Hz\n",
    "    sampling_rate = 250\n",
    "    \n",
    "    # Create realistic EEG voltage patterns\n",
    "    t = np.linspace(0, 4, n_timepoints)\n",
    "    voltage_data = np.zeros((n_channels, n_timepoints))\n",
    "    \n",
    "    for i in range(n_channels):\n",
    "        # Alpha rhythm (10 Hz) - relaxed state\n",
    "        voltage_data[i] += 50e-6 * np.sin(2 * np.pi * 10 * t)\n",
    "        # Beta activity (20 Hz) - alert state\n",
    "        voltage_data[i] += 20e-6 * np.sin(2 * np.pi * 20 * t)\n",
    "        # Add realistic noise\n",
    "        voltage_data[i] += 10e-6 * np.random.randn(n_timepoints)\n",
    "    \n",
    "    channel_names = ['F3', 'F4', 'C3', 'C4', 'P3', 'P4', 'O1', 'O2']\n",
    "    \n",
    "    # **ANALYZE EEG DATA**\n",
    "    assessment = analyze_patient_eeg(voltage_data, sampling_rate, channel_names)\n",
    "    \n",
    "    # **DISPLAY RESULTS**\n",
    "    print(\"\\nPATIENT ASSESSMENT RESULTS:\")\n",
    "    print(\"-\" * 30)\n",
    "    \n",
    "    summary = assessment['patient_summary']\n",
    "    print(f\"Overall State: {summary['overall_brain_state']}\")\n",
    "    print(f\"Alertness: {summary['alertness_level']}\")\n",
    "    print(f\"Stress Level: {summary['stress_level']}\")\n",
    "    print(f\"Attention: {summary['attention_score']}\")\n",
    "    print(f\"Cognitive State: {summary['cognitive_state']}\")\n",
    "    print(f\"Seizure Risk: {summary['seizure_risk']}\")\n",
    "    print(f\"Confidence: {summary['confidence_level']}\")\n",
    "    \n",
    "    print(f\"\\nCLINICAL INTERPRETATIONS:\")\n",
    "    print(\"-\" * 30)\n",
    "    interpretations = assessment['clinical_interpretations']\n",
    "    for key, value in interpretations.items():\n",
    "        print(f\"{key.title()}: {value}\")\n",
    "    \n",
    "    print(f\"\\nRECOMMENDATIONS:\")\n",
    "    print(\"-\" * 30)\n",
    "    for i, rec in enumerate(assessment['recommendations'], 1):\n",
    "        print(f\"{i}. {rec}\")\n",
    "    \n",
    "    print(f\"\\nMOST IMPORTANT CHANNELS:\")\n",
    "    print(f\"{', '.join(assessment['interpretability']['most_important_channels'])}\")\n",
    "    \n",
    "    # Save results\n",
    "    with open('patient_eeg_assessment.json', 'w') as f:\n",
    "        json.dump(assessment, f, indent=2)\n",
    "    \n",
    "    print(f\"\\n✓ Complete assessment saved to 'patient_eeg_assessment.json'\")\n"
   ]
  }
 ],
 "metadata": {
  "kernelspec": {
   "display_name": "Python 3",
   "language": "python",
   "name": "python3"
  },
  "language_info": {
   "codemirror_mode": {
    "name": "ipython",
    "version": 3
   },
   "file_extension": ".py",
   "mimetype": "text/x-python",
   "name": "python",
   "nbconvert_exporter": "python",
   "pygments_lexer": "ipython3",
   "version": "3.10.7"
  }
 },
 "nbformat": 4,
 "nbformat_minor": 5
}
