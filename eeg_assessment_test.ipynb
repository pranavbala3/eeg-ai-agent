{
 "cells": [
  {
   "cell_type": "code",
   "execution_count": 1,
   "id": "82592184",
   "metadata": {},
   "outputs": [],
   "source": [
    "import torch\n",
    "import numpy as np\n",
    "from typing import Dict, List, Optional\n",
    "import json\n",
    "import os\n",
    "from scipy.stats import zscore\n",
    "from datetime import datetime\n",
    "import uuid\n",
    "\n",
    "from eeg_assessment import save_to_json, analyze_patient_eeg, generate_synthetic_eeg_data, format_patient_assessment, save_to_json, edf_to_numpy"
   ]
  },
  {
   "cell_type": "code",
   "execution_count": null,
   "id": "32056877",
   "metadata": {},
   "outputs": [
    {
     "name": "stdout",
     "output_type": "stream",
     "text": [
      "Loading pretrained EEGPT model...\n",
      "✓ Pretrained EEGPT model loaded successfully\n",
      "✓ EEGPT Patient Assessment initialized on cpu\n",
      "✓ Using pretrained model: checkpoint/eegpt_mcae_58chs_4s_large4E.ckpt\n",
      "Analyzing EEG: (8, 1000) channels, 1000 samples\n",
      "Duration: 4.0 seconds\n",
      "EEGPT Patient Assessment System\n",
      "==================================================\n",
      "\n",
      "PATIENT ASSESSMENT RESULTS:\n",
      "------------------------------\n",
      "Overall State: Normal Brain Activity\n",
      "Alertness: 5.1/10\n",
      "Stress Level: 5.1/10\n",
      "Attention: 5.8/10\n",
      "Cognitive State: Mild Impairment\n",
      "Seizure Risk: High Risk\n",
      "Confidence: 88.0%\n",
      "\n",
      "CLINICAL INTERPRETATIONS:\n",
      "------------------------------\n",
      "Alertness: Moderate alertness - Mild fatigue or reduced focus may be present\n",
      "Stress: Moderate stress - Within normal range for daily activities\n",
      "Attention: Moderate attention - Some difficulty with sustained concentration\n",
      "Cognitive: Mild Impairment (confidence: 35.0%)\n",
      "Seizure_Risk: High Risk (confidence: 27.7%)\n",
      "\n",
      "RECOMMENDATIONS:\n",
      "------------------------------\n",
      "1. Immediate neurological consultation recommended\n",
      "\n",
      "MOST IMPORTANT CHANNELS:\n",
      "F3, F4, C3\n",
      "\n",
      "✓ Complete assessment saved to 'patient_eeg_assessment.json'\n"
     ]
    }
   ],
   "source": [
    "voltage_data, sampling_rate, channel_names = generate_synthetic_eeg_data()\n",
    "data, fs, ch_names = edf_to_numpy('data/chb01_01.edf')\n",
    "\n",
    "assessment = analyze_patient_eeg(voltage_data, sampling_rate, channel_names)\n",
    "report = format_patient_assessment(assessment)\n",
    "print(report)\n",
    "\n",
    "save_path = f'data/patient_eeg_assessment-{uuid.uuid4()}.json'\n",
    "save_to_json(assessment, save_path)\n",
    "print(\"\\n✓ Complete assessment saved to 'patient_eeg_assessment.json'\")\n"
   ]
  }
 ],
 "metadata": {
  "kernelspec": {
   "display_name": "Python 3",
   "language": "python",
   "name": "python3"
  },
  "language_info": {
   "codemirror_mode": {
    "name": "ipython",
    "version": 3
   },
   "file_extension": ".py",
   "mimetype": "text/x-python",
   "name": "python",
   "nbconvert_exporter": "python",
   "pygments_lexer": "ipython3",
   "version": "3.10.7"
  }
 },
 "nbformat": 4,
 "nbformat_minor": 5
}
